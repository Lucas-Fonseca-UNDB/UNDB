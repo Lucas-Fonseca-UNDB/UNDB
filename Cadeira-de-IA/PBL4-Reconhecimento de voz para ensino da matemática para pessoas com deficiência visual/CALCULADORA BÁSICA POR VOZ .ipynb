{
 "cells": [
  {
   "cell_type": "code",
   "execution_count": 65,
   "id": "05238ac8-bfc3-41cb-ba6f-c794a6bcc00c",
   "metadata": {},
   "outputs": [],
   "source": [
    "import speech_recognition as sr\n",
    "import pyttsx3\n",
    "import time "
   ]
  },
  {
   "cell_type": "code",
   "execution_count": 76,
   "id": "f3069771-c700-4b49-b098-1bf4d685f906",
   "metadata": {},
   "outputs": [
    {
     "name": "stdout",
     "output_type": "stream",
     "text": [
      "Fale algo...\n",
      "Você disse: número 7\n"
     ]
    },
    {
     "name": "stdout",
     "output_type": "stream",
     "text": [
      "Deseja continuar ? (s/n)  s\n"
     ]
    },
    {
     "name": "stdout",
     "output_type": "stream",
     "text": [
      "Fale algo...\n",
      "Você disse: operador multiplicar\n"
     ]
    },
    {
     "name": "stdout",
     "output_type": "stream",
     "text": [
      "Deseja continuar ? (s/n)  s\n"
     ]
    },
    {
     "name": "stdout",
     "output_type": "stream",
     "text": [
      "Fale algo...\n",
      "Você disse: número 5\n"
     ]
    },
    {
     "name": "stdout",
     "output_type": "stream",
     "text": [
      "Deseja continuar ? (s/n)  n\n"
     ]
    },
    {
     "name": "stdout",
     "output_type": "stream",
     "text": [
      "Frases faladas:\n",
      "1. número 7\n",
      "2. operador multiplicar\n",
      "3. número 5\n"
     ]
    }
   ],
   "source": [
    "# Criar um objeto de reconhecimento de fala\n",
    "r = sr.Recognizer()\n",
    "\n",
    "# Função para obter entrada de áudio do usuário\n",
    "def obter_audio():\n",
    "    with sr.Microphone() as source:\n",
    "        print(\"Fale agora...\")\n",
    "        time.sleep(1)\n",
    "        audio = r.listen(source)\n",
    "        return audio\n",
    "\n",
    "# Lista para armazenar as frases\n",
    "frases = []\n",
    "\n",
    "# Loop principal\n",
    "continuar = True\n",
    "while continuar:\n",
    "    audio = obter_audio()\n",
    "\n",
    "    # Converter áudio em texto usando o Google Speech Recognition\n",
    "    try:\n",
    "        text = r.recognize_google(audio, language=\"pt-BR\")\n",
    "        print(f\"Você disse: {text}\")\n",
    "        frases.append(text)  # Adicionar a frase à lista\n",
    "        time.sleep(2)\n",
    "    except sr.UnknownValueError:\n",
    "        print(\"O reconhecimento de fala não conseguiu entender o áudio.\")\n",
    "    except sr.RequestError as e:\n",
    "        print(f\"Ocorreu um erro no serviço de reconhecimento de fala: {e}\")\n",
    "\n",
    "    # Perguntar ao usuário se deseja continuar\n",
    "    resposta = input(\"Deseja continuar ? (s/n) \").lower()\n",
    "    if resposta != \"s\":\n",
    "        continuar = False\n",
    "\n",
    "# Imprimir todas as frases armazenadas\n",
    "print(\"Frases faladas:\")\n",
    "for i, frase in enumerate(frases, start=1):\n",
    "    print(f\"{i}. {frase}\")\n"
   ]
  },
  {
   "cell_type": "code",
   "execution_count": 77,
   "id": "0ea7a94e-2edd-43a2-b4dd-60ce854af6f8",
   "metadata": {},
   "outputs": [
    {
     "name": "stdout",
     "output_type": "stream",
     "text": [
      "1° número:  7\n",
      "operador:  multiplicar\n",
      "2° número:  5\n",
      "resultado:  35\n"
     ]
    }
   ],
   "source": [
    "# Extraindo os números e o operador das frases\n",
    "num_1 = int(frases[0][7:])\n",
    "print(\"1° número: \",num_1)\n",
    "\n",
    "operador = frases[1][8:]\n",
    "operador_limpo = operador.strip()\n",
    "print(\"operador: \",operador_limpo)\n",
    "\n",
    "num_2 = int(frases[2][7:])\n",
    "print(\"2° número: \",num_2)\n",
    "\n",
    "# Realizando a operação com base no operador\n",
    "if operador_limpo == \"mais\":\n",
    "    resultado = num_1 + num_2\n",
    "elif operador_limpo == \"menos\":\n",
    "    resultado = num_1 - num_2\n",
    "elif operador_limpo == \"multiplicar\":\n",
    "    resultado = num_1 * num_2\n",
    "elif operador_limpo == \"dividir\":\n",
    "    if num_2 != 0:\n",
    "        resultado = num_1 / num_2\n",
    "    else:\n",
    "        print(\"Erro: divisão por zero!\")\n",
    "else:\n",
    "    resultado = \"Operador desconhecido\"\n",
    "\n",
    "print(\"resultado: \",resultado)\n",
    "resultado_str = str(resultado)\n"
   ]
  },
  {
   "cell_type": "code",
   "execution_count": 81,
   "id": "b55c496d-71a8-4809-aa9c-94b82abedd77",
   "metadata": {},
   "outputs": [],
   "source": [
    "# Inicializar o mecanismo de conversão de texto em fala\n",
    "engine = pyttsx3.init()\n",
    "\n",
    "# Obter o texto do usuário\n",
    "text = resultado_str\n",
    "\n",
    "# Definir propriedades da voz\n",
    "voices = engine.getProperty('voices')\n",
    "for voice in voices:\n",
    "    if 'brazil' in voice.name.lower():\n",
    "        engine.setProperty('voice', voice.id)\n",
    "        break\n",
    "\n",
    "# Converter texto em fala\n",
    "engine.say(text)\n",
    "engine.runAndWait()\n"
   ]
  },
  {
   "cell_type": "code",
   "execution_count": null,
   "id": "4fb1d552-d82e-43f5-a54c-7dbe0da954bd",
   "metadata": {},
   "outputs": [],
   "source": []
  }
 ],
 "metadata": {
  "kernelspec": {
   "display_name": "Python 3 (ipykernel)",
   "language": "python",
   "name": "python3"
  },
  "language_info": {
   "codemirror_mode": {
    "name": "ipython",
    "version": 3
   },
   "file_extension": ".py",
   "mimetype": "text/x-python",
   "name": "python",
   "nbconvert_exporter": "python",
   "pygments_lexer": "ipython3",
   "version": "3.8.19"
  }
 },
 "nbformat": 4,
 "nbformat_minor": 5
}
