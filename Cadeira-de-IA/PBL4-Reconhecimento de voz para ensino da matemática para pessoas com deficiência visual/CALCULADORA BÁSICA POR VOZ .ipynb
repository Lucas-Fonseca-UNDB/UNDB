{
 "cells": [
  {
   "cell_type": "code",
   "execution_count": 2,
   "id": "2ea9fdd0-0458-42a5-b218-43754f97addd",
   "metadata": {},
   "outputs": [
    {
     "name": "stdout",
     "output_type": "stream",
     "text": [
      "Collecting SpeechRecognition\n",
      "  Downloading SpeechRecognition-3.10.4-py2.py3-none-any.whl.metadata (28 kB)\n",
      "Requirement already satisfied: requests>=2.26.0 in c:\\users\\lucas\\miniconda3\\envs\\python_38\\lib\\site-packages (from SpeechRecognition) (2.31.0)\n",
      "Requirement already satisfied: typing-extensions in c:\\users\\lucas\\miniconda3\\envs\\python_38\\lib\\site-packages (from SpeechRecognition) (4.11.0)\n",
      "Requirement already satisfied: charset-normalizer<4,>=2 in c:\\users\\lucas\\miniconda3\\envs\\python_38\\lib\\site-packages (from requests>=2.26.0->SpeechRecognition) (2.0.4)\n",
      "Requirement already satisfied: idna<4,>=2.5 in c:\\users\\lucas\\miniconda3\\envs\\python_38\\lib\\site-packages (from requests>=2.26.0->SpeechRecognition) (3.7)\n",
      "Requirement already satisfied: urllib3<3,>=1.21.1 in c:\\users\\lucas\\miniconda3\\envs\\python_38\\lib\\site-packages (from requests>=2.26.0->SpeechRecognition) (2.2.1)\n",
      "Requirement already satisfied: certifi>=2017.4.17 in c:\\users\\lucas\\miniconda3\\envs\\python_38\\lib\\site-packages (from requests>=2.26.0->SpeechRecognition) (2024.2.2)\n",
      "Downloading SpeechRecognition-3.10.4-py2.py3-none-any.whl (32.8 MB)\n",
      "   ---------------------------------------- 0.0/32.8 MB ? eta -:--:--\n",
      "   ---------------------------------------- 0.0/32.8 MB ? eta -:--:--\n",
      "   ---------------------------------------- 0.0/32.8 MB 487.6 kB/s eta 0:01:08\n",
      "   ---------------------------------------- 0.2/32.8 MB 2.0 MB/s eta 0:00:17\n",
      "    --------------------------------------- 0.5/32.8 MB 3.2 MB/s eta 0:00:11\n",
      "   - -------------------------------------- 1.0/32.8 MB 5.1 MB/s eta 0:00:07\n",
      "   - -------------------------------------- 1.6/32.8 MB 6.4 MB/s eta 0:00:05\n",
      "   -- ------------------------------------- 2.2/32.8 MB 7.2 MB/s eta 0:00:05\n",
      "   --- ------------------------------------ 2.7/32.8 MB 7.8 MB/s eta 0:00:04\n",
      "   --- ------------------------------------ 3.3/32.8 MB 8.3 MB/s eta 0:00:04\n",
      "   ---- ----------------------------------- 3.8/32.8 MB 8.6 MB/s eta 0:00:04\n",
      "   ----- ---------------------------------- 4.4/32.8 MB 9.0 MB/s eta 0:00:04\n",
      "   ----- ---------------------------------- 4.9/32.8 MB 9.2 MB/s eta 0:00:04\n",
      "   ------ --------------------------------- 5.4/32.8 MB 9.4 MB/s eta 0:00:03\n",
      "   ------- -------------------------------- 6.0/32.8 MB 9.6 MB/s eta 0:00:03\n",
      "   ------- -------------------------------- 6.5/32.8 MB 9.7 MB/s eta 0:00:03\n",
      "   -------- ------------------------------- 7.1/32.8 MB 9.9 MB/s eta 0:00:03\n",
      "   --------- ------------------------------ 7.6/32.8 MB 9.9 MB/s eta 0:00:03\n",
      "   --------- ------------------------------ 8.2/32.8 MB 10.1 MB/s eta 0:00:03\n",
      "   ---------- ----------------------------- 8.7/32.8 MB 10.2 MB/s eta 0:00:03\n",
      "   ----------- ---------------------------- 9.3/32.8 MB 10.2 MB/s eta 0:00:03\n",
      "   ----------- ---------------------------- 9.8/32.8 MB 10.3 MB/s eta 0:00:03\n",
      "   ------------ --------------------------- 10.4/32.8 MB 11.3 MB/s eta 0:00:02\n",
      "   ------------- -------------------------- 10.9/32.8 MB 11.7 MB/s eta 0:00:02\n",
      "   ------------- -------------------------- 11.4/32.8 MB 11.7 MB/s eta 0:00:02\n",
      "   -------------- ------------------------- 12.0/32.8 MB 11.7 MB/s eta 0:00:02\n",
      "   --------------- ------------------------ 12.7/32.8 MB 11.7 MB/s eta 0:00:02\n",
      "   ---------------- ----------------------- 13.3/32.8 MB 11.7 MB/s eta 0:00:02\n",
      "   ---------------- ----------------------- 13.8/32.8 MB 11.7 MB/s eta 0:00:02\n",
      "   ----------------- ---------------------- 14.0/32.8 MB 11.7 MB/s eta 0:00:02\n",
      "   ----------------- ---------------------- 14.0/32.8 MB 11.7 MB/s eta 0:00:02\n",
      "   ----------------- ---------------------- 14.6/32.8 MB 10.9 MB/s eta 0:00:02\n",
      "   ------------------ --------------------- 15.1/32.8 MB 11.1 MB/s eta 0:00:02\n",
      "   -------------------- ------------------- 16.5/32.8 MB 11.7 MB/s eta 0:00:02\n",
      "   -------------------- ------------------- 17.0/32.8 MB 11.7 MB/s eta 0:00:02\n",
      "   --------------------- ------------------ 17.6/32.8 MB 11.7 MB/s eta 0:00:02\n",
      "   ---------------------- ----------------- 18.3/32.8 MB 11.7 MB/s eta 0:00:02\n",
      "   ----------------------- ---------------- 19.0/32.8 MB 11.7 MB/s eta 0:00:02\n",
      "   ------------------------ --------------- 19.8/32.8 MB 11.7 MB/s eta 0:00:02\n",
      "   ------------------------ --------------- 20.5/32.8 MB 11.7 MB/s eta 0:00:02\n",
      "   ------------------------- -------------- 21.0/32.8 MB 11.7 MB/s eta 0:00:02\n",
      "   ------------------------- -------------- 21.0/32.8 MB 11.7 MB/s eta 0:00:02\n",
      "   --------------------------- ------------ 22.4/32.8 MB 11.7 MB/s eta 0:00:01\n",
      "   --------------------------- ------------ 22.5/32.8 MB 10.7 MB/s eta 0:00:01\n",
      "   ----------------------------- ---------- 24.1/32.8 MB 11.7 MB/s eta 0:00:01\n",
      "   ------------------------------ --------- 24.8/32.8 MB 13.1 MB/s eta 0:00:01\n",
      "   ------------------------------- -------- 25.6/32.8 MB 12.6 MB/s eta 0:00:01\n",
      "   -------------------------------- ------- 26.3/32.8 MB 11.9 MB/s eta 0:00:01\n",
      "   -------------------------------- ------- 27.0/32.8 MB 11.7 MB/s eta 0:00:01\n",
      "   --------------------------------- ------ 27.6/32.8 MB 11.7 MB/s eta 0:00:01\n",
      "   ---------------------------------- ----- 28.3/32.8 MB 11.7 MB/s eta 0:00:01\n",
      "   ----------------------------------- ---- 29.0/32.8 MB 11.7 MB/s eta 0:00:01\n",
      "   ------------------------------------ --- 29.8/32.8 MB 11.7 MB/s eta 0:00:01\n",
      "   ------------------------------------- -- 30.5/32.8 MB 11.7 MB/s eta 0:00:01\n",
      "   -------------------------------------- - 31.2/32.8 MB 11.7 MB/s eta 0:00:01\n",
      "   -------------------------------------- - 31.7/32.8 MB 12.8 MB/s eta 0:00:01\n",
      "   ---------------------------------------  32.3/32.8 MB 12.1 MB/s eta 0:00:01\n",
      "   ---------------------------------------  32.8/32.8 MB 12.8 MB/s eta 0:00:01\n",
      "   ---------------------------------------  32.8/32.8 MB 12.8 MB/s eta 0:00:01\n",
      "   ---------------------------------------  32.8/32.8 MB 12.8 MB/s eta 0:00:01\n",
      "   ---------------------------------------  32.8/32.8 MB 12.8 MB/s eta 0:00:01\n",
      "   ---------------------------------------- 32.8/32.8 MB 10.5 MB/s eta 0:00:00\n",
      "Installing collected packages: SpeechRecognition\n",
      "Successfully installed SpeechRecognition-3.10.4\n",
      "Collecting PyAudio\n",
      "  Downloading PyAudio-0.2.14-cp38-cp38-win_amd64.whl.metadata (2.7 kB)\n",
      "Downloading PyAudio-0.2.14-cp38-cp38-win_amd64.whl (164 kB)\n",
      "   ---------------------------------------- 0.0/164.1 kB ? eta -:--:--\n",
      "   -- ------------------------------------- 10.2/164.1 kB ? eta -:--:--\n",
      "   -- ------------------------------------- 10.2/164.1 kB ? eta -:--:--\n",
      "   ------- ------------------------------- 30.7/164.1 kB 187.9 kB/s eta 0:00:01\n",
      "   -------------- ------------------------ 61.4/164.1 kB 273.8 kB/s eta 0:00:01\n",
      "   -------------------------------------- 164.1/164.1 kB 615.3 kB/s eta 0:00:00\n",
      "Installing collected packages: PyAudio\n",
      "Successfully installed PyAudio-0.2.14\n"
     ]
    }
   ],
   "source": [
    "!pip install SpeechRecognition\n",
    "!pip install PyAudio\n",
    "!pip install pyttsx3"
   ]
  },
  {
   "cell_type": "code",
   "execution_count": 65,
   "id": "05238ac8-bfc3-41cb-ba6f-c794a6bcc00c",
   "metadata": {},
   "outputs": [],
   "source": [
    "import speech_recognition as sr\n",
    "import pyttsx3\n",
    "import time "
   ]
  },
  {
   "cell_type": "code",
   "execution_count": 76,
   "id": "f3069771-c700-4b49-b098-1bf4d685f906",
   "metadata": {},
   "outputs": [
    {
     "name": "stdout",
     "output_type": "stream",
     "text": [
      "Fale algo...\n",
      "Você disse: número 7\n"
     ]
    },
    {
     "name": "stdin",
     "output_type": "stream",
     "text": [
      "Deseja continuar ? (s/n)  s\n"
     ]
    },
    {
     "name": "stdout",
     "output_type": "stream",
     "text": [
      "Fale algo...\n",
      "Você disse: operador multiplicar\n"
     ]
    },
    {
     "name": "stdin",
     "output_type": "stream",
     "text": [
      "Deseja continuar ? (s/n)  s\n"
     ]
    },
    {
     "name": "stdout",
     "output_type": "stream",
     "text": [
      "Fale algo...\n",
      "Você disse: número 5\n"
     ]
    },
    {
     "name": "stdin",
     "output_type": "stream",
     "text": [
      "Deseja continuar ? (s/n)  n\n"
     ]
    },
    {
     "name": "stdout",
     "output_type": "stream",
     "text": [
      "Frases faladas:\n",
      "1. número 7\n",
      "2. operador multiplicar\n",
      "3. número 5\n"
     ]
    }
   ],
   "source": [
    "# Criar um objeto de reconhecimento de fala\n",
    "r = sr.Recognizer()\n",
    "\n",
    "# Função para obter entrada de áudio do usuário\n",
    "def obter_audio():\n",
    "    with sr.Microphone() as source:\n",
    "        print(\"Fale algo...\")\n",
    "        audio = r.listen(source)\n",
    "        return audio\n",
    "\n",
    "# Lista para armazenar as frases\n",
    "frases = []\n",
    "\n",
    "# Loop principal\n",
    "continuar = True\n",
    "while continuar:\n",
    "    audio = obter_audio()\n",
    "\n",
    "    # Converter áudio em texto usando o Google Speech Recognition\n",
    "    try:\n",
    "        text = r.recognize_google(audio, language=\"pt-BR\")\n",
    "        print(f\"Você disse: {text}\")\n",
    "        time.sleep(5)\n",
    "        frases.append(text)  # Adicionar a frase à lista\n",
    "    except sr.UnknownValueError:\n",
    "        print(\"O reconhecimento de fala não conseguiu entender o áudio.\")\n",
    "    except sr.RequestError as e:\n",
    "        print(f\"Ocorreu um erro no serviço de reconhecimento de fala: {e}\")\n",
    "\n",
    "    # Perguntar ao usuário se deseja continuar\n",
    "    resposta = input(\"Deseja continuar ? (s/n) \").lower()\n",
    "    if resposta != \"s\":\n",
    "        continuar = False\n",
    "\n",
    "# Imprimir todas as frases armazenadas\n",
    "print(\"Frases faladas:\")\n",
    "for i, frase in enumerate(frases, start=1):\n",
    "    print(f\"{i}. {frase}\")\n"
   ]
  },
  {
   "cell_type": "code",
   "execution_count": 77,
   "id": "0ea7a94e-2edd-43a2-b4dd-60ce854af6f8",
   "metadata": {},
   "outputs": [
    {
     "name": "stdout",
     "output_type": "stream",
     "text": [
      "1° número:  7\n",
      "operador:  multiplicar\n",
      "2° número:  5\n",
      "resultado:  35\n"
     ]
    }
   ],
   "source": [
    "# Extraindo os números e o operador das frases\n",
    "num_1 = int(frases[0][7:])\n",
    "print(\"1° número: \",num_1)\n",
    "\n",
    "operador = frases[1][8:]\n",
    "operador_limpo = operador.strip()\n",
    "print(\"operador: \",operador_limpo)\n",
    "\n",
    "num_2 = int(frases[2][7:])\n",
    "print(\"2° número: \",num_2)\n",
    "\n",
    "# Realizando a operação com base no operador\n",
    "if operador_limpo == \"mais\":\n",
    "    resultado = num_1 + num_2\n",
    "elif operador_limpo == \"menos\":\n",
    "    resultado = num_1 - num_2\n",
    "elif operador_limpo == \"multiplicar\":\n",
    "    resultado = num_1 * num_2\n",
    "elif operador_limpo == \"dividir\":\n",
    "    if num_2 != 0:\n",
    "        resultado = num_1 / num_2\n",
    "    else:\n",
    "        print(\"Erro: divisão por zero!\")\n",
    "else:\n",
    "    resultado = \"Operador desconhecido\"\n",
    "\n",
    "print(\"resultado: \",resultado)\n",
    "resultado_str = str(resultado)\n"
   ]
  },
  {
   "cell_type": "code",
   "execution_count": 81,
   "id": "b55c496d-71a8-4809-aa9c-94b82abedd77",
   "metadata": {},
   "outputs": [],
   "source": [
    "# Inicializar o mecanismo de conversão de texto em fala\n",
    "engine = pyttsx3.init()\n",
    "\n",
    "# Obter o texto do usuário\n",
    "text = resultado_str\n",
    "\n",
    "# Definir propriedades da voz\n",
    "voices = engine.getProperty('voices')\n",
    "for voice in voices:\n",
    "    if 'brazil' in voice.name.lower():\n",
    "        engine.setProperty('voice', voice.id)\n",
    "        break\n",
    "\n",
    "# Converter texto em fala\n",
    "engine.say(text)\n",
    "engine.runAndWait()\n"
   ]
  },
  {
   "cell_type": "code",
   "execution_count": null,
   "id": "4fb1d552-d82e-43f5-a54c-7dbe0da954bd",
   "metadata": {},
   "outputs": [],
   "source": []
  }
 ],
 "metadata": {
  "kernelspec": {
   "display_name": "Python 3 (ipykernel)",
   "language": "python",
   "name": "python3"
  },
  "language_info": {
   "codemirror_mode": {
    "name": "ipython",
    "version": 3
   },
   "file_extension": ".py",
   "mimetype": "text/x-python",
   "name": "python",
   "nbconvert_exporter": "python",
   "pygments_lexer": "ipython3",
   "version": "3.8.19"
  }
 },
 "nbformat": 4,
 "nbformat_minor": 5
}
